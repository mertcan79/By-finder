{
 "cells": [
  {
   "cell_type": "code",
   "execution_count": 21,
   "metadata": {},
   "outputs": [],
   "source": [
    "from pgmpy.models import BayesianNetwork\n",
    "from pgmpy.factors.discrete import TabularCPD\n",
    "from pgmpy.inference import VariableElimination\n",
    "import numpy as np\n",
    "from pgmpy.models import BayesianModel"
   ]
  },
  {
   "cell_type": "code",
   "execution_count": 17,
   "metadata": {},
   "outputs": [],
   "source": [
    "flat_model = BayesianNetwork([\n",
    "    ('Distance', 'Price'), \n",
    "    ('Rooms', 'Price'), \n",
    "    ('Price', 'Quality'), \n",
    "    ('Price', 'UserPref'), \n",
    "    ('Rooms', 'UserPref'), \n",
    "    ('Distance', 'UserPref'), \n",
    "    ('Quality', 'UserPref')\n",
    "])"
   ]
  },
  {
   "cell_type": "code",
   "execution_count": 18,
   "metadata": {},
   "outputs": [
    {
     "name": "stderr",
     "output_type": "stream",
     "text": [
      "/var/folders/d_/gpj533v11fdcdd85lcmb91h80000gn/T/ipykernel_19283/598488856.py:5: DeprecationWarning: `product` is deprecated as of NumPy 1.25.0, and will be removed in NumPy 2.0. Please use `prod` instead.\n",
      "  cpd_price = TabularCPD(\n",
      "/var/folders/d_/gpj533v11fdcdd85lcmb91h80000gn/T/ipykernel_19283/598488856.py:18: DeprecationWarning: `product` is deprecated as of NumPy 1.25.0, and will be removed in NumPy 2.0. Please use `prod` instead.\n",
      "  cpd_quality = TabularCPD(\n"
     ]
    }
   ],
   "source": [
    "from pgmpy.factors.discrete import TabularCPD\n",
    "\n",
    "cpd_dist = TabularCPD(variable='Distance', variable_card=3, values=[[0.3], [0.5], [0.2]])\n",
    "cpd_rooms = TabularCPD(variable='Rooms', variable_card=3, values=[[0.33], [0.33], [0.34]])\n",
    "cpd_price = TabularCPD(\n",
    "    variable='Price', \n",
    "    variable_card=3, \n",
    "    values=[\n",
    "        [0.7, 0.4, 0.2, 0.3, 0.1, 0.1],\n",
    "        [0.2, 0.4, 0.3, 0.3, 0.4, 0.2],\n",
    "        [0.1, 0.2, 0.5, 0.4, 0.5, 0.7]\n",
    "    ],\n",
    "    evidence=['Distance', 'Rooms'],\n",
    "    evidence_card=[2, 3]\n",
    ")\n",
    "\n",
    "# Assume that Quality is independent and depends only on the Price\n",
    "cpd_quality = TabularCPD(\n",
    "    variable='Quality',\n",
    "    variable_card=2,\n",
    "    values=[\n",
    "        [0.5, 0.6, 0.7],\n",
    "        [0.5, 0.4, 0.3]\n",
    "    ],\n",
    "    evidence=['Price'],\n",
    "    evidence_card=[3]\n",
    ")\n"
   ]
  },
  {
   "cell_type": "code",
   "execution_count": 19,
   "metadata": {},
   "outputs": [
    {
     "ename": "ValueError",
     "evalue": "No CPD associated with UserPref",
     "output_type": "error",
     "traceback": [
      "\u001b[0;31m---------------------------------------------------------------------------\u001b[0m",
      "\u001b[0;31mValueError\u001b[0m                                Traceback (most recent call last)",
      "Cell \u001b[0;32mIn[19], line 5\u001b[0m\n\u001b[1;32m      2\u001b[0m flat_model\u001b[39m.\u001b[39madd_cpds(cpd_dist, cpd_rooms, cpd_price, cpd_quality)\n\u001b[1;32m      4\u001b[0m \u001b[39m# Checking if the cpds are valid for the model.\u001b[39;00m\n\u001b[0;32m----> 5\u001b[0m flat_model\u001b[39m.\u001b[39;49mcheck_model()\n",
      "File \u001b[0;32m~/Projects/recommend/env/lib/python3.10/site-packages/pgmpy/models/BayesianNetwork.py:408\u001b[0m, in \u001b[0;36mBayesianNetwork.check_model\u001b[0;34m(self)\u001b[0m\n\u001b[1;32m    406\u001b[0m \u001b[39m# Check if a CPD is associated with every node.\u001b[39;00m\n\u001b[1;32m    407\u001b[0m \u001b[39mif\u001b[39;00m cpd \u001b[39mis\u001b[39;00m \u001b[39mNone\u001b[39;00m:\n\u001b[0;32m--> 408\u001b[0m     \u001b[39mraise\u001b[39;00m \u001b[39mValueError\u001b[39;00m(\u001b[39mf\u001b[39m\u001b[39m\"\u001b[39m\u001b[39mNo CPD associated with \u001b[39m\u001b[39m{\u001b[39;00mnode\u001b[39m}\u001b[39;00m\u001b[39m\"\u001b[39m)\n\u001b[1;32m    410\u001b[0m \u001b[39m# Check if the CPD is an instance of either TabularCPD or ContinuousFactor.\u001b[39;00m\n\u001b[1;32m    411\u001b[0m \u001b[39melif\u001b[39;00m \u001b[39misinstance\u001b[39m(cpd, (TabularCPD, ContinuousFactor)):\n",
      "\u001b[0;31mValueError\u001b[0m: No CPD associated with UserPref"
     ]
    }
   ],
   "source": [
    "# Associating the parameters with the model structure.\n",
    "flat_model.add_cpds(cpd_dist, cpd_rooms, cpd_price, cpd_quality)\n",
    "\n",
    "# Checking if the cpds are valid for the model.\n",
    "flat_model.check_model()"
   ]
  },
  {
   "cell_type": "code",
   "execution_count": 26,
   "metadata": {},
   "outputs": [
    {
     "data": {
      "text/plain": [
       "{'Distance': {'Distance', 'Rooms', 'UserPref'}}"
      ]
     },
     "execution_count": 26,
     "metadata": {},
     "output_type": "execute_result"
    }
   ],
   "source": [
    "flat_model.active_trail_nodes(\"Distance\")"
   ]
  },
  {
   "cell_type": "code",
   "execution_count": 27,
   "metadata": {},
   "outputs": [
    {
     "data": {
      "text/plain": [
       "(Quality ⟂ Rooms, Distance | Price)"
      ]
     },
     "execution_count": 27,
     "metadata": {},
     "output_type": "execute_result"
    }
   ],
   "source": [
    "flat_model.local_independencies(\"Quality\")"
   ]
  },
  {
   "cell_type": "code",
   "execution_count": 25,
   "metadata": {},
   "outputs": [
    {
     "name": "stderr",
     "output_type": "stream",
     "text": [
      "/var/folders/d_/gpj533v11fdcdd85lcmb91h80000gn/T/ipykernel_19283/2808752659.py:8: DeprecationWarning: `product` is deprecated as of NumPy 1.25.0, and will be removed in NumPy 2.0. Please use `prod` instead.\n",
      "  user_pref_cpd = TabularCPD(\n"
     ]
    }
   ],
   "source": [
    "# Create random values\n",
    "random_values = np.random.rand(3, 81)\n",
    "\n",
    "# Normalize the values so that they sum to 1 across each set of conditions\n",
    "normalized_values = random_values / random_values.sum(axis=0)\n",
    "values_test = normalized_values.tolist()\n",
    "\n",
    "user_pref_cpd = TabularCPD(\n",
    "    variable='UserPref', \n",
    "    variable_card=3, \n",
    "    values=values_test,\n",
    "    evidence=['Price', 'Rooms', 'Distance', 'Quality'],\n",
    "    evidence_card=[3, 3, 3, 3]\n",
    ")\n",
    "flat_model.add_cpds(user_pref_cpd)"
   ]
  },
  {
   "cell_type": "code",
   "execution_count": 37,
   "metadata": {},
   "outputs": [
    {
     "name": "stderr",
     "output_type": "stream",
     "text": [
      "/var/folders/d_/gpj533v11fdcdd85lcmb91h80000gn/T/ipykernel_19283/851166779.py:13: DeprecationWarning: `product` is deprecated as of NumPy 1.25.0, and will be removed in NumPy 2.0. Please use `prod` instead.\n",
      "  cpd_price = TabularCPD(\n",
      "/var/folders/d_/gpj533v11fdcdd85lcmb91h80000gn/T/ipykernel_19283/851166779.py:26: DeprecationWarning: `product` is deprecated as of NumPy 1.25.0, and will be removed in NumPy 2.0. Please use `prod` instead.\n",
      "  cpd_quality = TabularCPD(\n",
      "/var/folders/d_/gpj533v11fdcdd85lcmb91h80000gn/T/ipykernel_19283/851166779.py:41: DeprecationWarning: `product` is deprecated as of NumPy 1.25.0, and will be removed in NumPy 2.0. Please use `prod` instead.\n",
      "  cpd_userpref = TabularCPD(\n"
     ]
    }
   ],
   "source": [
    "# Define the structure\n",
    "flat_model = BayesianModel([\n",
    "    ('Distance', 'UserPref'), \n",
    "    ('Rooms', 'UserPref'), \n",
    "    ('Price', 'UserPref'),\n",
    "    ('Quality', 'UserPref'),\n",
    "    ('Rooms', 'Distance'), \n",
    "    ('Price', 'Quality'), \n",
    "])\n",
    "\n",
    "cpd_distance = TabularCPD(variable='Distance', variable_card=3, values=[[0.33], [0.33], [0.34]])\n",
    "cpd_rooms = TabularCPD(variable='Rooms', variable_card=3, values=[[0.33], [0.33], [0.34]])\n",
    "cpd_price = TabularCPD(\n",
    "    variable='Price', \n",
    "    variable_card=3, \n",
    "    values=[\n",
    "        [0.7, 0.4, 0.2, 0.3, 0.1, 0.1],\n",
    "        [0.2, 0.4, 0.3, 0.3, 0.4, 0.2],\n",
    "        [0.1, 0.2, 0.5, 0.4, 0.5, 0.7]\n",
    "    ],\n",
    "    evidence=['Distance', 'Rooms'],\n",
    "    evidence_card=[2, 3]\n",
    ")\n",
    "\n",
    "# Assume that Quality is independent and depends only on the Price\n",
    "cpd_quality = TabularCPD(\n",
    "    variable='Quality',\n",
    "    variable_card=2,\n",
    "    values=[\n",
    "        [0.5, 0.6, 0.7],\n",
    "        [0.5, 0.4, 0.3]\n",
    "    ],\n",
    "    evidence=['Price'],\n",
    "    evidence_card=[3]\n",
    ")\n",
    "# Create random probabilities for UserPref\n",
    "random_values = np.random.rand(3, 81)\n",
    "normalized_values = random_values / random_values.sum(axis=0)\n",
    "\n",
    "# Use these values in your CPD\n",
    "cpd_userpref = TabularCPD(\n",
    "    variable='UserPref', \n",
    "    variable_card=3, \n",
    "    values=normalized_values.tolist(),\n",
    "    evidence=['Price', 'Rooms', 'Distance', 'Quality'],\n",
    "    evidence_card=[3, 3, 3, 3]\n",
    ")\n",
    "\n",
    "# Add the CPDs to the model\n",
    "flat_model.add_cpds(cpd_dist, cpd_rooms, cpd_price, cpd_quality, cpd_userpref)"
   ]
  },
  {
   "cell_type": "code",
   "execution_count": 38,
   "metadata": {},
   "outputs": [],
   "source": [
    "def categorize_price(price):\n",
    "    if price < 400:\n",
    "        return 0  # 'Low'\n",
    "    elif 400 <= price < 800:\n",
    "        return 1  # 'Medium'\n",
    "    else:\n",
    "        return 2  # 'High'\n",
    "\n",
    "def categorize_rooms(rooms):\n",
    "    if rooms < 2:\n",
    "        return 0  # 'Low'\n",
    "    elif 2 <= rooms < 3:\n",
    "        return 1  # 'Medium'\n",
    "    else:\n",
    "        return 2  # 'High'\n",
    "def categorize_distance(distance):\n",
    "    if distance < 10:\n",
    "        return 0  # 'Low'\n",
    "    elif 10 <= distance < 25:\n",
    "        return 1  # 'Medium'\n",
    "    else:\n",
    "        return 2  # 'High'   \n",
    "    \n",
    "def categorize_quality(quality):\n",
    "    if quality < 3.5:\n",
    "        return 0  # 'Low'\n",
    "    elif 3.5 <= quality < 4.5:\n",
    "        return 1  # 'Medium'\n",
    "    else:\n",
    "        return 2  # 'High'       "
   ]
  },
  {
   "cell_type": "code",
   "execution_count": 39,
   "metadata": {},
   "outputs": [
    {
     "ename": "ValueError",
     "evalue": "CPD associated with Distance doesn't have proper parents associated with it.",
     "output_type": "error",
     "traceback": [
      "\u001b[0;31m---------------------------------------------------------------------------\u001b[0m",
      "\u001b[0;31mValueError\u001b[0m                                Traceback (most recent call last)",
      "Cell \u001b[0;32mIn[39], line 11\u001b[0m\n\u001b[1;32m      8\u001b[0m quality_A \u001b[39m=\u001b[39m categorize_quality(\u001b[39m4\u001b[39m)\n\u001b[1;32m      9\u001b[0m quality_B \u001b[39m=\u001b[39m categorize_quality(\u001b[39m4.2\u001b[39m)\n\u001b[0;32m---> 11\u001b[0m infer \u001b[39m=\u001b[39m VariableElimination(flat_model)\n\u001b[1;32m     12\u001b[0m prob_giv_A \u001b[39m=\u001b[39m infer\u001b[39m.\u001b[39mquery(variables\u001b[39m=\u001b[39m[\u001b[39m'\u001b[39m\u001b[39mUserPref\u001b[39m\u001b[39m'\u001b[39m], \n\u001b[1;32m     13\u001b[0m                          evidence\u001b[39m=\u001b[39m{\u001b[39m'\u001b[39m\u001b[39mPrice\u001b[39m\u001b[39m'\u001b[39m: price_A, \u001b[39m'\u001b[39m\u001b[39mRooms\u001b[39m\u001b[39m'\u001b[39m: rooms_A, \u001b[39m'\u001b[39m\u001b[39mDistance\u001b[39m\u001b[39m'\u001b[39m: distance_A, \u001b[39m'\u001b[39m\u001b[39mQuality\u001b[39m\u001b[39m'\u001b[39m: quality_A})\n\u001b[1;32m     15\u001b[0m prob_giv_B \u001b[39m=\u001b[39m infer\u001b[39m.\u001b[39mquery(variables\u001b[39m=\u001b[39m[\u001b[39m'\u001b[39m\u001b[39mUserPref\u001b[39m\u001b[39m'\u001b[39m], \n\u001b[1;32m     16\u001b[0m                          evidence\u001b[39m=\u001b[39m{\u001b[39m'\u001b[39m\u001b[39mPrice\u001b[39m\u001b[39m'\u001b[39m: price_B, \u001b[39m'\u001b[39m\u001b[39mRooms\u001b[39m\u001b[39m'\u001b[39m: rooms_B, \u001b[39m'\u001b[39m\u001b[39mDistance\u001b[39m\u001b[39m'\u001b[39m: quality_B, \u001b[39m'\u001b[39m\u001b[39mQuality\u001b[39m\u001b[39m'\u001b[39m: quality_B})\n",
      "File \u001b[0;32m~/Projects/recommend/env/lib/python3.10/site-packages/pgmpy/inference/base.py:67\u001b[0m, in \u001b[0;36mInference.__init__\u001b[0;34m(self, model)\u001b[0m\n\u001b[1;32m     65\u001b[0m \u001b[39mdef\u001b[39;00m \u001b[39m__init__\u001b[39m(\u001b[39mself\u001b[39m, model):\n\u001b[1;32m     66\u001b[0m     \u001b[39mself\u001b[39m\u001b[39m.\u001b[39mmodel \u001b[39m=\u001b[39m model\n\u001b[0;32m---> 67\u001b[0m     model\u001b[39m.\u001b[39;49mcheck_model()\n\u001b[1;32m     69\u001b[0m     \u001b[39mif\u001b[39;00m \u001b[39misinstance\u001b[39m(\u001b[39mself\u001b[39m\u001b[39m.\u001b[39mmodel, JunctionTree):\n\u001b[1;32m     70\u001b[0m         \u001b[39mself\u001b[39m\u001b[39m.\u001b[39mvariables \u001b[39m=\u001b[39m \u001b[39mset\u001b[39m(chain(\u001b[39m*\u001b[39m\u001b[39mself\u001b[39m\u001b[39m.\u001b[39mmodel\u001b[39m.\u001b[39mnodes()))\n",
      "File \u001b[0;32m~/Projects/recommend/env/lib/python3.10/site-packages/pgmpy/models/BayesianNetwork.py:417\u001b[0m, in \u001b[0;36mBayesianNetwork.check_model\u001b[0;34m(self)\u001b[0m\n\u001b[1;32m    415\u001b[0m \u001b[39m# Check if the evidence set of the CPD is same as its parents.\u001b[39;00m\n\u001b[1;32m    416\u001b[0m \u001b[39mif\u001b[39;00m \u001b[39mset\u001b[39m(evidence) \u001b[39m!=\u001b[39m \u001b[39mset\u001b[39m(parents):\n\u001b[0;32m--> 417\u001b[0m     \u001b[39mraise\u001b[39;00m \u001b[39mValueError\u001b[39;00m(\n\u001b[1;32m    418\u001b[0m         \u001b[39mf\u001b[39m\u001b[39m\"\u001b[39m\u001b[39mCPD associated with \u001b[39m\u001b[39m{\u001b[39;00mnode\u001b[39m}\u001b[39;00m\u001b[39m doesn\u001b[39m\u001b[39m'\u001b[39m\u001b[39mt have proper parents associated with it.\u001b[39m\u001b[39m\"\u001b[39m\n\u001b[1;32m    419\u001b[0m     )\n\u001b[1;32m    421\u001b[0m \u001b[39m# Check if the values of the CPD sum to 1.\u001b[39;00m\n\u001b[1;32m    422\u001b[0m \u001b[39mif\u001b[39;00m \u001b[39mnot\u001b[39;00m cpd\u001b[39m.\u001b[39mis_valid_cpd():\n",
      "\u001b[0;31mValueError\u001b[0m: CPD associated with Distance doesn't have proper parents associated with it."
     ]
    }
   ],
   "source": [
    "price_A = categorize_price(700)\n",
    "price_B = categorize_price(600)\n",
    "# Assuming functions categorize_rooms, categorize_distance, and categorize_quality\n",
    "rooms_A = categorize_rooms(2)\n",
    "rooms_B = categorize_rooms(2)\n",
    "distance_A = categorize_distance(12)\n",
    "distance_B = categorize_distance(8)\n",
    "quality_A = categorize_quality(4)\n",
    "quality_B = categorize_quality(4.2)\n",
    "\n",
    "infer = VariableElimination(flat_model)\n",
    "prob_giv_A = infer.query(variables=['UserPref'], \n",
    "                         evidence={'Price': price_A, 'Rooms': rooms_A, 'Distance': distance_A, 'Quality': quality_A})\n",
    "\n",
    "prob_giv_B = infer.query(variables=['UserPref'], \n",
    "                         evidence={'Price': price_B, 'Rooms': rooms_B, 'Distance': quality_B, 'Quality': quality_B})\n"
   ]
  },
  {
   "cell_type": "code",
   "execution_count": null,
   "metadata": {},
   "outputs": [],
   "source": [
    "# 1. Define the Bayesian Network structure\n",
    "flat_model = BayesianNetwork([\n",
    "    ('SearchRooms', 'UserPref'),\n",
    "    ('SearchSqft', 'UserPref'),\n",
    "    ('SearchQuality', 'UserPref'),\n",
    "    ('SearchPrice', 'UserPref'),\n",
    "    ('IndustryRooms', 'Rooms'),\n",
    "    ('IndustrySqft', 'Sqft'),\n",
    "    ('IndustryQuality', 'Quality'),\n",
    "    ('IndustryPrice', 'Price'),\n",
    "    ('Rooms', 'UserPref'),\n",
    "    ('Sqft', 'UserPref'),\n",
    "    ('Quality', 'UserPref'),\n",
    "    ('Price', 'UserPref')\n",
    "])\n",
    "\n",
    "# Sample size for history\n",
    "N_history = 1000\n",
    "\n",
    "# Set seed for reproducibility\n",
    "np.random.seed(42)\n",
    "\n",
    "# Create the dataframe for search history\n",
    "df_history = pd.DataFrame({\n",
    "    'SearchRooms': np.random.choice([1, 2, 3], p=[0.6, 0.3, 0.1], size=N_history),\n",
    "    'SearchSqft': np.random.choice(['small', 'medium', 'large'], p=[0.2, 0.6, 0.2], size=N_history),\n",
    "    'SearchQuality': np.random.choice(['low', 'medium', 'high'], p=[0.2, 0.6, 0.2], size=N_history),\n",
    "    'SearchPrice': np.random.choice(['low', 'medium', 'high'], p=[0.1, 0.2, 0.7], size=N_history),\n",
    "    'UserPref': np.random.choice(['like', 'neutral', 'dislike'], size=N_history)\n",
    "})\n",
    "# Sample size for industry data\n",
    "N_industry = 500\n",
    "\n",
    "# Create the dataframe for industry expertise\n",
    "df_industry = pd.DataFrame({\n",
    "    'IndustryRooms': np.random.choice([1, 2, 3], size=N_industry),\n",
    "    'IndustrySqft': np.random.choice(['small', 'medium', 'large'], size=N_industry),\n",
    "    'IndustryQuality': np.random.choice(['low', 'medium', 'high'], size=N_industry),\n",
    "    'IndustryPrice': np.random.choice(['low', 'medium', 'high'], size=N_industry),\n",
    "    'Rooms': np.random.choice([1, 2, 3], size=N_industry),\n",
    "    'Sqft': np.random.choice(['small', 'medium', 'large'], size=N_industry),\n",
    "    'Quality': np.random.choice(['low', 'medium', 'high'], size=N_industry),\n",
    "    'Price': np.random.choice(['low', 'medium', 'high'], size=N_industry),\n",
    "})\n",
    "\n",
    "# Bayesian Network structure already defined as flat_model\n",
    "\n",
    "# Calculate CPDs using df_history\n",
    "mle_history = MaximumLikelihoodEstimator(flat_model, df_history)\n",
    "cpd_searchrooms = mle_history.estimate_cpd('SearchRooms')\n",
    "cpd_searchsqft = mle_history.estimate_cpd('SearchSqft')\n",
    "cpd_searchquality = mle_history.estimate_cpd('SearchQuality')\n",
    "cpd_searchprice = mle_history.estimate_cpd('SearchPrice')\n",
    "cpd_userpref_from_history = mle_history.estimate_cpd('UserPref')\n",
    "\n",
    "# Calculate CPDs using df_industry\n",
    "mle_industry = MaximumLikelihoodEstimator(flat_model, df_industry)\n",
    "cpd_industryrooms = mle_industry.estimate_cpd('IndustryRooms')\n",
    "cpd_industrysqft = mle_industry.estimate_cpd('IndustrySqft')\n",
    "cpd_industryquality = mle_industry.estimate_cpd('IndustryQuality')\n",
    "cpd_industryprice = mle_industry.estimate_cpd('IndustryPrice')\n",
    "cpd_rooms = mle_industry.estimate_cpd('Rooms')\n",
    "cpd_sqft = mle_industry.estimate_cpd('Sqft')\n",
    "cpd_quality = mle_industry.estimate_cpd('Quality')\n",
    "cpd_price = mle_industry.estimate_cpd('Price')\n",
    "\n",
    "# Add the CPDs to the model\n",
    "flat_model.add_cpds(cpd_searchrooms, cpd_searchsqft, cpd_searchquality, cpd_searchprice,\n",
    "                    cpd_userpref_from_history, cpd_industryrooms, cpd_industrysqft, cpd_industryquality,\n",
    "                    cpd_industryprice, cpd_rooms, cpd_sqft, cpd_quality, cpd_price)\n",
    "\n",
    "# Validate the model\n",
    "assert flat_model.check_model()\n",
    "\n",
    "# 3. Input user search parameters as evidence\n",
    "# Sample evidence: user wants a 3-room flat, with 500 sqft, high quality, for €600\n",
    "evidence = {\n",
    "    'SearchRooms': 3,\n",
    "    'SearchSqft': 500,\n",
    "    'SearchQuality': 'high',\n",
    "    'SearchPrice': 600\n",
    "}\n",
    "\n",
    "# 4. Query the network for the adjusted probabilities for UserPref\n",
    "inference = VariableElimination(flat_model)\n",
    "result = inference.query(variables=['UserPref'], evidence=evidence)\n",
    "\n",
    "print(result)"
   ]
  },
  {
   "cell_type": "code",
   "execution_count": null,
   "metadata": {},
   "outputs": [],
   "source": [
    " Computing the probability of bronc given smoke=no.\n",
    "q = asia_infer.query(variables=[\"bronc\"], evidence={\"smoke\": \"no\"})\n",
    "print(q)\n",
    "\n",
    "# Computing the joint probability of bronc and asia given smoke=yes\n",
    "q = asia_infer.query(variables=[\"bronc\", \"asia\"], evidence={\"smoke\": \"yes\"})\n",
    "print(q)\n",
    "\n",
    "# Computing the probabilities (not joint) of bronc and asia given smoke=no\n",
    "q = asia_infer.query(variables=[\"bronc\", \"asia\"], evidence={\"smoke\": \"no\"}, joint=False)\n",
    "for factor in q.values():\n",
    "    print(factor)"
   ]
  }
 ],
 "metadata": {
  "kernelspec": {
   "display_name": "env",
   "language": "python",
   "name": "python3"
  },
  "language_info": {
   "codemirror_mode": {
    "name": "ipython",
    "version": 3
   },
   "file_extension": ".py",
   "mimetype": "text/x-python",
   "name": "python",
   "nbconvert_exporter": "python",
   "pygments_lexer": "ipython3",
   "version": "3.10.12"
  },
  "orig_nbformat": 4
 },
 "nbformat": 4,
 "nbformat_minor": 2
}
